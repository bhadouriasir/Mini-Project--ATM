{
 "cells": [
  {
   "cell_type": "code",
   "execution_count": 1,
   "metadata": {},
   "outputs": [],
   "source": [
    "class Atm:  # class name Atm\n",
    "    \n",
    "    cpin= 1212   # customer pin\n",
    "    camount=1000 # customer amount\n",
    "        \n",
    "    def __init__(self):\n",
    "        \n",
    "        p=int(input('enter pin'))\n",
    "        if(Atm.cpin == p):    # Check pin\n",
    "            \n",
    "            print('Check Balance - 1')\n",
    "            print('Deposit Amount - 2')\n",
    "            print('Withdraw Amount - 3')\n",
    "            print('Transfer Amount - 4')\n",
    "            \n",
    "            choice = int(input('enter your choice'))\n",
    "            if(choice == 1):  # display current balance\n",
    "                print (\"Total Amount %d\" % Atm.camount)\n",
    "                                 \n",
    "                \n",
    "            elif(choice == 2):  #deposit money\n",
    "                x= int(input('enter deposite amount '))\n",
    "                Atm.camount += x\n",
    "                print (\"Total Amount %d \" % Atm.camount)\n",
    "                \n",
    "            elif(choice==3):   # withdraw money\n",
    "                x= int(input('enter withdraw amount '))\n",
    "                if(Atm.camount >= x):\n",
    "                    Atm.camount -= x\n",
    "                    print (\"Total Amount %d \" % Atm.camount)\n",
    "                else:\n",
    "                    print('you enter exceed amount')\n",
    "                \n",
    "            elif(choice==4):  # transfer money\n",
    "                \n",
    "                t=int(input('enter transfer amount'))\n",
    "                if(Atm.camount >= t):\n",
    "                    Atm.camount -= t\n",
    "                    print(\"your money is transferd\")\n",
    "                    print (\"Current Balance %d \" % Atm.camount)\n",
    "                else:\n",
    "                    print('you enter exceed amount')    \n",
    "                \n",
    "            else:\n",
    "                print('Invalid Choice')\n",
    "            \n",
    "            \n",
    "        else:\n",
    "            print('Invalid pin')\n",
    "            \n",
    "            "
   ]
  },
  {
   "cell_type": "code",
   "execution_count": 2,
   "metadata": {},
   "outputs": [
    {
     "name": "stdout",
     "output_type": "stream",
     "text": [
      "enter pin1212\n",
      "Check Balance - 1\n",
      "Deposit Amount - 2\n",
      "Withdraw Amount - 3\n",
      "Transfer Amount - 4\n",
      "enter your choice4\n",
      "enter transfer amount200\n",
      "your money is transferd\n",
      "Current Balance 800 \n"
     ]
    }
   ],
   "source": [
    "c1=Atm()"
   ]
  },
  {
   "cell_type": "code",
   "execution_count": null,
   "metadata": {},
   "outputs": [],
   "source": []
  }
 ],
 "metadata": {
  "kernelspec": {
   "display_name": "Python 3",
   "language": "python",
   "name": "python3"
  },
  "language_info": {
   "codemirror_mode": {
    "name": "ipython",
    "version": 3
   },
   "file_extension": ".py",
   "mimetype": "text/x-python",
   "name": "python",
   "nbconvert_exporter": "python",
   "pygments_lexer": "ipython3",
   "version": "3.7.6"
  }
 },
 "nbformat": 4,
 "nbformat_minor": 4
}
